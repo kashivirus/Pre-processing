{
 "cells": [
  {
   "cell_type": "markdown",
   "id": "191643e5-eb2c-4344-8895-4ecb5659cdcf",
   "metadata": {},
   "source": [
    "# resizing"
   ]
  },
  {
   "cell_type": "code",
   "execution_count": 112,
   "id": "3cf7a0cf-f729-4182-8ccd-01be9a201e57",
   "metadata": {},
   "outputs": [],
   "source": [
    "path1='Recaptured/'  #path of folder of images    \n",
    "#path2 = 'C:/Users/israr/Desktop/Farida_thesis/fazilat_gray/'\n",
    "path2 = 'resized_RE_captured/'\n",
    "  #path of folder to save images    \n",
    "#img_rows,img_cols=100,100\n",
    "#listing = os.listdir(path1)\n",
    "#num_samples=len(listing)\n",
    "#print (num_samples)\n",
    "\n",
    "for file in os.listdir(path1):\n",
    "    im = Image.open(path1 + '//' + file)  \n",
    "    img = im.resize((img_rows,img_cols))\n",
    "    #gray = img.convert('L')\n",
    "                #need to do some more processing here          \n",
    "    img.save(path2 +'//' +  file, \"PNG\")\n",
    "\n",
    "imlist = os.listdir(path1)\n"
   ]
  },
  {
   "cell_type": "code",
   "execution_count": null,
   "id": "4abeccb6-b489-40ab-9742-02ded5538511",
   "metadata": {},
   "outputs": [],
   "source": []
  }
 ],
 "metadata": {
  "kernelspec": {
   "display_name": "Python 3 (ipykernel)",
   "language": "python",
   "name": "python3"
  },
  "language_info": {
   "codemirror_mode": {
    "name": "ipython",
    "version": 3
   },
   "file_extension": ".py",
   "mimetype": "text/x-python",
   "name": "python",
   "nbconvert_exporter": "python",
   "pygments_lexer": "ipython3",
   "version": "3.9.7"
  }
 },
 "nbformat": 4,
 "nbformat_minor": 5
}
